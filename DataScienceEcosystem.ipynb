{
 "cells": [
  {
   "cell_type": "markdown",
   "id": "b65f2b79-664d-40e3-a3a4-2b58fdb44b49",
   "metadata": {},
   "source": [
    "# Data Science Tools and Ecosystem"
   ]
  },
  {
   "cell_type": "markdown",
   "id": "bdc532fb-2f72-4a5a-98cb-f0572b0c113a",
   "metadata": {},
   "source": [
    "In this notebook, Data Science Tools and Ecosystem are summarised."
   ]
  },
  {
   "cell_type": "markdown",
   "id": "700026d8-ba94-499d-aa1e-d0f6a040bec6",
   "metadata": {},
   "source": [
    "**Objectives:**\n",
    "* Data science languages\n",
    "* Data science libraries\n",
    "* Data science tools\n",
    "* How to create a table\n",
    "* Evaluating arithmetic\n",
    "* Headers\n",
    "* Basic formatting\n",
    "* How to upload and share to GitHub"
   ]
  },
  {
   "cell_type": "markdown",
   "id": "ddd04a96-8609-4ead-9ac8-6c7600903d67",
   "metadata": {
    "tags": []
   },
   "source": [
    "Some of the popular languages that Data Scientists use are:\n",
    "1. R\n",
    "2. Julia\n",
    "3. Python\n",
    "4. JavaScript\n",
    "5. C++"
   ]
  },
  {
   "cell_type": "markdown",
   "id": "fce1992d-cfa4-46fe-93b9-8406f5532330",
   "metadata": {},
   "source": [
    "Some of the commonly used libraries used by Data Scientists include\n",
    "1. NumPy\n",
    "2. SciPy\n",
    "3. Pandas\n",
    "4. SciKit-Learn\n",
    "5. TensorFlow\n",
    "6. PyTorch"
   ]
  },
  {
   "cell_type": "markdown",
   "id": "29052087-60be-47a8-9c17-b0bd6d31d475",
   "metadata": {
    "tags": []
   },
   "source": [
    "| Data Science Tools |\n",
    "----------------------\n",
    "| R & R Studio        |\n",
    "| Python |\n",
    "| Anaconda |\n",
    "| Jupyter |\n",
    "| Apache Spark |\n",
    "| Knime |\n",
    "| Matplotlib |\n",
    "| TensorFlow |\n",
    "| SciKit-Learn |\n",
    "| Hadoop |"
   ]
  },
  {
   "cell_type": "markdown",
   "id": "23eeed08-ddf9-4d29-b744-1ed3a4637633",
   "metadata": {},
   "source": [
    "### Below are a few examples of evaluating arithmetic expressions in Python"
   ]
  },
  {
   "cell_type": "code",
   "execution_count": 8,
   "id": "a584d360-6b36-4d3c-a99b-99c408cc7661",
   "metadata": {
    "tags": []
   },
   "outputs": [
    {
     "data": {
      "text/plain": [
       "17"
      ]
     },
     "execution_count": 8,
     "metadata": {},
     "output_type": "execute_result"
    }
   ],
   "source": [
    "## This is a simple arithmetic expression to multiply then add integers\n",
    "(3*4)+5"
   ]
  },
  {
   "cell_type": "code",
   "execution_count": 10,
   "id": "d9377a78-8768-43f9-9208-5a7a960a625a",
   "metadata": {
    "tags": []
   },
   "outputs": [
    {
     "data": {
      "text/plain": [
       "3.3333333333333335"
      ]
     },
     "execution_count": 10,
     "metadata": {},
     "output_type": "execute_result"
    }
   ],
   "source": [
    "## This will convert 200 minutes to hours by dividing by 60.\n",
    "\n",
    "200/60"
   ]
  },
  {
   "cell_type": "markdown",
   "id": "1afe95ad-f58c-45e0-82cb-9535965a23c6",
   "metadata": {},
   "source": [
    "## Author\n",
    "Shannon van Deventer"
   ]
  },
  {
   "cell_type": "code",
   "execution_count": null,
   "id": "c5289612-e5b7-4bc7-b938-bcffb883693f",
   "metadata": {},
   "outputs": [],
   "source": []
  }
 ],
 "metadata": {
  "kernelspec": {
   "display_name": "Python",
   "language": "python",
   "name": "conda-env-python-py"
  },
  "language_info": {
   "codemirror_mode": {
    "name": "ipython",
    "version": 3
   },
   "file_extension": ".py",
   "mimetype": "text/x-python",
   "name": "python",
   "nbconvert_exporter": "python",
   "pygments_lexer": "ipython3",
   "version": "3.7.12"
  }
 },
 "nbformat": 4,
 "nbformat_minor": 5
}
